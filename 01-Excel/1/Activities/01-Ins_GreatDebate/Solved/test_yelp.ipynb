{
    "cells": [
        {
            "cell_type": "code",
            "execution_count": 5,
            "source": [
                "import requests\n",
                "import json\n",
                "from config import *\n",
                "import pandas as pd\n",
                "# Define my API Key, My Endpoint, and My Header\n",
                "ENDPOINT = 'https://api.yelp.com/v3/businesses/search'.format(client)\n",
                "headers = {'Authorization': 'bearer %s' % api_key}"
            ],
            "outputs": [],
            "metadata": {}
        },
        {
            "cell_type": "markdown",
            "source": [
                "Get US zip codes from publicly available Census Data"
            ],
            "metadata": {}
        },
        {
            "cell_type": "code",
            "execution_count": 6,
            "source": [
                "census_pd = pd.read_csv(\"../Resources/Census_Data.csv\")\n",
                "census_pd.head()"
            ],
            "outputs": [
                {
                    "output_type": "execute_result",
                    "data": {
                        "text/plain": [
                            "   Zipcode                        Address  Population  Median Age  \\\n",
                            "0    15081   South Heights, PA 15081, USA         342        50.2   \n",
                            "1    20615  Broomes Island, MD 20615, USA         424        43.4   \n",
                            "2    50201          Nevada, IA 50201, USA        8139        40.4   \n",
                            "3    84020          Draper, UT 84020, USA       42751        30.4   \n",
                            "4    39097          Louise, MS 39097, USA         495        58.0   \n",
                            "\n",
                            "   Household Income  Per Capita Income  \n",
                            "0           31500.0              22177  \n",
                            "1          114375.0              43920  \n",
                            "2           56619.0              28908  \n",
                            "3           89922.0              33164  \n",
                            "4           26838.0              17399  "
                        ],
                        "text/html": [
                            "<div>\n",
                            "<style scoped>\n",
                            "    .dataframe tbody tr th:only-of-type {\n",
                            "        vertical-align: middle;\n",
                            "    }\n",
                            "\n",
                            "    .dataframe tbody tr th {\n",
                            "        vertical-align: top;\n",
                            "    }\n",
                            "\n",
                            "    .dataframe thead th {\n",
                            "        text-align: right;\n",
                            "    }\n",
                            "</style>\n",
                            "<table border=\"1\" class=\"dataframe\">\n",
                            "  <thead>\n",
                            "    <tr style=\"text-align: right;\">\n",
                            "      <th></th>\n",
                            "      <th>Zipcode</th>\n",
                            "      <th>Address</th>\n",
                            "      <th>Population</th>\n",
                            "      <th>Median Age</th>\n",
                            "      <th>Household Income</th>\n",
                            "      <th>Per Capita Income</th>\n",
                            "    </tr>\n",
                            "  </thead>\n",
                            "  <tbody>\n",
                            "    <tr>\n",
                            "      <th>0</th>\n",
                            "      <td>15081</td>\n",
                            "      <td>South Heights, PA 15081, USA</td>\n",
                            "      <td>342</td>\n",
                            "      <td>50.2</td>\n",
                            "      <td>31500.0</td>\n",
                            "      <td>22177</td>\n",
                            "    </tr>\n",
                            "    <tr>\n",
                            "      <th>1</th>\n",
                            "      <td>20615</td>\n",
                            "      <td>Broomes Island, MD 20615, USA</td>\n",
                            "      <td>424</td>\n",
                            "      <td>43.4</td>\n",
                            "      <td>114375.0</td>\n",
                            "      <td>43920</td>\n",
                            "    </tr>\n",
                            "    <tr>\n",
                            "      <th>2</th>\n",
                            "      <td>50201</td>\n",
                            "      <td>Nevada, IA 50201, USA</td>\n",
                            "      <td>8139</td>\n",
                            "      <td>40.4</td>\n",
                            "      <td>56619.0</td>\n",
                            "      <td>28908</td>\n",
                            "    </tr>\n",
                            "    <tr>\n",
                            "      <th>3</th>\n",
                            "      <td>84020</td>\n",
                            "      <td>Draper, UT 84020, USA</td>\n",
                            "      <td>42751</td>\n",
                            "      <td>30.4</td>\n",
                            "      <td>89922.0</td>\n",
                            "      <td>33164</td>\n",
                            "    </tr>\n",
                            "    <tr>\n",
                            "      <th>4</th>\n",
                            "      <td>39097</td>\n",
                            "      <td>Louise, MS 39097, USA</td>\n",
                            "      <td>495</td>\n",
                            "      <td>58.0</td>\n",
                            "      <td>26838.0</td>\n",
                            "      <td>17399</td>\n",
                            "    </tr>\n",
                            "  </tbody>\n",
                            "</table>\n",
                            "</div>"
                        ]
                    },
                    "metadata": {},
                    "execution_count": 6
                }
            ],
            "metadata": {}
        },
        {
            "cell_type": "markdown",
            "source": [
                "Get only those zip codes with population > 1000"
            ],
            "metadata": {}
        },
        {
            "cell_type": "code",
            "execution_count": 7,
            "source": [
                "above_1000 = census_pd[census_pd['Population'] >= 1000]\n",
                "print(f'there are {above_1000.shape[0]} such zip codes in the United States')\n",
                "df = above_1000.sample(n = 500)  # random sample of 500 zip codes\n",
                "zip_list = df['Zipcode'].tolist() # list of zip codes\n",
                "# zip_list"
            ],
            "outputs": [
                {
                    "output_type": "stream",
                    "name": "stdout",
                    "text": [
                        "there are 527 such zip codes in the United States\n"
                    ]
                }
            ],
            "metadata": {}
        },
        {
            "cell_type": "code",
            "execution_count": 8,
            "source": [
                "from pandas import json_normalize \n",
                "#Food Type data dataframes\n",
                "mexican = pd.DataFrame(columns = ['name', 'rating', 'review_count', 'weighted_rating'])\n",
                "italian = pd.DataFrame(columns = ['name', 'rating', 'review_count', 'weighted_rating'])\n",
                "\n",
                "df_list = []\n",
                "\n",
                "cuisines = ['Mexican', 'Italian']\n",
                "for choice in cuisines:\n",
                "    for zip in zip_list:\n",
                "        url='https://api.yelp.com/v3/businesses/search'\n",
                "        params = {'term':choice,'location':zip}\n",
                "        req=requests.get(url, params=params, headers=headers)\n",
                "        response = json.loads(req.text)\n",
                "        df = json_normalize(response, 'businesses')\n",
                "        try:\n",
                "            data = df[['name', 'rating', 'review_count']]\n",
                "            # data['weighted_rating'] = (data['review_count']/data['rating'])\n",
                "            data['cuisine'] = choice\n",
                "            df_list.append(data)\n",
                "        except:\n",
                "            pass\n",
                "            # print('columns for name rating and review count not in data')\n",
                "    "
            ],
            "outputs": [
                {
                    "output_type": "stream",
                    "name": "stderr",
                    "text": [
                        "<ipython-input-8-b1516868dd71>:19: SettingWithCopyWarning: \n",
                        "A value is trying to be set on a copy of a slice from a DataFrame.\n",
                        "Try using .loc[row_indexer,col_indexer] = value instead\n",
                        "\n",
                        "See the caveats in the documentation: https://pandas.pydata.org/pandas-docs/stable/user_guide/indexing.html#returning-a-view-versus-a-copy\n",
                        "  data['cuisine'] = choice\n"
                    ]
                }
            ],
            "metadata": {}
        },
        {
            "cell_type": "code",
            "execution_count": 9,
            "source": [
                "total_data = pd.concat(df_list)\n",
                "total_data.head() \n",
                "# df_list[:10]"
            ],
            "outputs": [
                {
                    "output_type": "execute_result",
                    "data": {
                        "text/plain": [
                            "                                  name  rating  review_count  cuisine\n",
                            "0                               El Tio     3.5            51  Mexican\n",
                            "1            Tipicos Gloria Restaurant     4.0           230  Mexican\n",
                            "2                          Taco Zocalo     4.5           337  Mexican\n",
                            "3  Casa Tequila Bar & Grill - Sterling     4.5            99  Mexican\n",
                            "4             Locals Tacos and Tequila     4.5            45  Mexican"
                        ],
                        "text/html": [
                            "<div>\n",
                            "<style scoped>\n",
                            "    .dataframe tbody tr th:only-of-type {\n",
                            "        vertical-align: middle;\n",
                            "    }\n",
                            "\n",
                            "    .dataframe tbody tr th {\n",
                            "        vertical-align: top;\n",
                            "    }\n",
                            "\n",
                            "    .dataframe thead th {\n",
                            "        text-align: right;\n",
                            "    }\n",
                            "</style>\n",
                            "<table border=\"1\" class=\"dataframe\">\n",
                            "  <thead>\n",
                            "    <tr style=\"text-align: right;\">\n",
                            "      <th></th>\n",
                            "      <th>name</th>\n",
                            "      <th>rating</th>\n",
                            "      <th>review_count</th>\n",
                            "      <th>cuisine</th>\n",
                            "    </tr>\n",
                            "  </thead>\n",
                            "  <tbody>\n",
                            "    <tr>\n",
                            "      <th>0</th>\n",
                            "      <td>El Tio</td>\n",
                            "      <td>3.5</td>\n",
                            "      <td>51</td>\n",
                            "      <td>Mexican</td>\n",
                            "    </tr>\n",
                            "    <tr>\n",
                            "      <th>1</th>\n",
                            "      <td>Tipicos Gloria Restaurant</td>\n",
                            "      <td>4.0</td>\n",
                            "      <td>230</td>\n",
                            "      <td>Mexican</td>\n",
                            "    </tr>\n",
                            "    <tr>\n",
                            "      <th>2</th>\n",
                            "      <td>Taco Zocalo</td>\n",
                            "      <td>4.5</td>\n",
                            "      <td>337</td>\n",
                            "      <td>Mexican</td>\n",
                            "    </tr>\n",
                            "    <tr>\n",
                            "      <th>3</th>\n",
                            "      <td>Casa Tequila Bar &amp; Grill - Sterling</td>\n",
                            "      <td>4.5</td>\n",
                            "      <td>99</td>\n",
                            "      <td>Mexican</td>\n",
                            "    </tr>\n",
                            "    <tr>\n",
                            "      <th>4</th>\n",
                            "      <td>Locals Tacos and Tequila</td>\n",
                            "      <td>4.5</td>\n",
                            "      <td>45</td>\n",
                            "      <td>Mexican</td>\n",
                            "    </tr>\n",
                            "  </tbody>\n",
                            "</table>\n",
                            "</div>"
                        ]
                    },
                    "metadata": {},
                    "execution_count": 9
                }
            ],
            "metadata": {}
        },
        {
            "cell_type": "code",
            "execution_count": 10,
            "source": [
                "total_data.shape\n",
                "total_data['weighted_rating'] = (total_data['review_count']/total_data['rating'])\n"
            ],
            "outputs": [],
            "metadata": {}
        },
        {
            "cell_type": "code",
            "execution_count": 11,
            "source": [
                "total_data.head()"
            ],
            "outputs": [
                {
                    "output_type": "execute_result",
                    "data": {
                        "text/plain": [
                            "                                  name  rating  review_count  cuisine  \\\n",
                            "0                               El Tio     3.5            51  Mexican   \n",
                            "1            Tipicos Gloria Restaurant     4.0           230  Mexican   \n",
                            "2                          Taco Zocalo     4.5           337  Mexican   \n",
                            "3  Casa Tequila Bar & Grill - Sterling     4.5            99  Mexican   \n",
                            "4             Locals Tacos and Tequila     4.5            45  Mexican   \n",
                            "\n",
                            "   weighted_rating  \n",
                            "0        14.571429  \n",
                            "1        57.500000  \n",
                            "2        74.888889  \n",
                            "3        22.000000  \n",
                            "4        10.000000  "
                        ],
                        "text/html": [
                            "<div>\n",
                            "<style scoped>\n",
                            "    .dataframe tbody tr th:only-of-type {\n",
                            "        vertical-align: middle;\n",
                            "    }\n",
                            "\n",
                            "    .dataframe tbody tr th {\n",
                            "        vertical-align: top;\n",
                            "    }\n",
                            "\n",
                            "    .dataframe thead th {\n",
                            "        text-align: right;\n",
                            "    }\n",
                            "</style>\n",
                            "<table border=\"1\" class=\"dataframe\">\n",
                            "  <thead>\n",
                            "    <tr style=\"text-align: right;\">\n",
                            "      <th></th>\n",
                            "      <th>name</th>\n",
                            "      <th>rating</th>\n",
                            "      <th>review_count</th>\n",
                            "      <th>cuisine</th>\n",
                            "      <th>weighted_rating</th>\n",
                            "    </tr>\n",
                            "  </thead>\n",
                            "  <tbody>\n",
                            "    <tr>\n",
                            "      <th>0</th>\n",
                            "      <td>El Tio</td>\n",
                            "      <td>3.5</td>\n",
                            "      <td>51</td>\n",
                            "      <td>Mexican</td>\n",
                            "      <td>14.571429</td>\n",
                            "    </tr>\n",
                            "    <tr>\n",
                            "      <th>1</th>\n",
                            "      <td>Tipicos Gloria Restaurant</td>\n",
                            "      <td>4.0</td>\n",
                            "      <td>230</td>\n",
                            "      <td>Mexican</td>\n",
                            "      <td>57.500000</td>\n",
                            "    </tr>\n",
                            "    <tr>\n",
                            "      <th>2</th>\n",
                            "      <td>Taco Zocalo</td>\n",
                            "      <td>4.5</td>\n",
                            "      <td>337</td>\n",
                            "      <td>Mexican</td>\n",
                            "      <td>74.888889</td>\n",
                            "    </tr>\n",
                            "    <tr>\n",
                            "      <th>3</th>\n",
                            "      <td>Casa Tequila Bar &amp; Grill - Sterling</td>\n",
                            "      <td>4.5</td>\n",
                            "      <td>99</td>\n",
                            "      <td>Mexican</td>\n",
                            "      <td>22.000000</td>\n",
                            "    </tr>\n",
                            "    <tr>\n",
                            "      <th>4</th>\n",
                            "      <td>Locals Tacos and Tequila</td>\n",
                            "      <td>4.5</td>\n",
                            "      <td>45</td>\n",
                            "      <td>Mexican</td>\n",
                            "      <td>10.000000</td>\n",
                            "    </tr>\n",
                            "  </tbody>\n",
                            "</table>\n",
                            "</div>"
                        ]
                    },
                    "metadata": {},
                    "execution_count": 11
                }
            ],
            "metadata": {}
        },
        {
            "cell_type": "code",
            "execution_count": 12,
            "source": [
                "mexican = total_data[total_data['cuisine'] == 'Mexican']\n",
                "italian = total_data[total_data['cuisine'] == 'Italian']"
            ],
            "outputs": [],
            "metadata": {}
        },
        {
            "cell_type": "code",
            "execution_count": 13,
            "source": [
                "round(italian.weighted_rating.mean(),2)"
            ],
            "outputs": [
                {
                    "output_type": "execute_result",
                    "data": {
                        "text/plain": [
                            "39.27"
                        ]
                    },
                    "metadata": {},
                    "execution_count": 13
                }
            ],
            "metadata": {}
        },
        {
            "cell_type": "code",
            "execution_count": 14,
            "source": [
                "mexican.weighted_rating.mean()"
            ],
            "outputs": [
                {
                    "output_type": "execute_result",
                    "data": {
                        "text/plain": [
                            "31.018777825497565"
                        ]
                    },
                    "metadata": {},
                    "execution_count": 14
                }
            ],
            "metadata": {}
        },
        {
            "cell_type": "code",
            "execution_count": null,
            "source": [],
            "outputs": [],
            "metadata": {}
        },
        {
            "cell_type": "code",
            "execution_count": null,
            "source": [],
            "outputs": [],
            "metadata": {}
        },
        {
            "cell_type": "code",
            "execution_count": null,
            "source": [],
            "outputs": [],
            "metadata": {}
        },
        {
            "cell_type": "code",
            "execution_count": 17,
            "source": [
                "url='https://api.yelp.com/v3/businesses/search'\n",
                "# In the dictionary, term can take values like food, cafes or businesses like McDonalds\n",
                "params = {'term':'Italian','location':'44113'}\n",
                "# params = {'term':'seafood','zip_code':\"44113\"}"
            ],
            "outputs": [],
            "metadata": {}
        },
        {
            "cell_type": "code",
            "execution_count": 50,
            "source": [
                "# Making a get request to the API\n",
                "req=requests.get(url, params=params, headers=headers)\n",
                "# proceed only if the status code is 200\n",
                "print('The status code is {}'.format(req.status_code))"
            ],
            "outputs": [
                {
                    "output_type": "stream",
                    "name": "stdout",
                    "text": [
                        "The status code is 200\n"
                    ]
                }
            ],
            "metadata": {}
        },
        {
            "cell_type": "code",
            "execution_count": 52,
            "source": [
                "# printing the text from the response \n",
                "response = json.loads(req.text)\n",
                "from pandas import json_normalize \n",
                "df = json_normalize(response, 'businesses')\n",
                "data = df[['name', 'rating', 'review_count']]\n",
                "data['weighted_rating'] = (data['review_count']/data['rating'])\n",
                "data.head()"
            ],
            "outputs": [
                {
                    "output_type": "stream",
                    "name": "stderr",
                    "text": [
                        "<ipython-input-52-2a567563437f>:6: SettingWithCopyWarning: \n",
                        "A value is trying to be set on a copy of a slice from a DataFrame.\n",
                        "Try using .loc[row_indexer,col_indexer] = value instead\n",
                        "\n",
                        "See the caveats in the documentation: https://pandas.pydata.org/pandas-docs/stable/user_guide/indexing.html#returning-a-view-versus-a-copy\n",
                        "  data['weighted_rating'] = (data['review_count']/data['rating'])\n"
                    ]
                },
                {
                    "output_type": "execute_result",
                    "data": {
                        "text/plain": [
                            "                     name  rating  review_count  weighted_rating\n",
                            "0    Luca Italian Cuisine     4.5           294        65.333333\n",
                            "1      Bruno's Ristorante     4.0           204        51.000000\n",
                            "2  Sainato's at Rivergate     4.0           109        27.250000\n",
                            "3           OSTERIA di AL     4.0            87        21.750000\n",
                            "4             Il Venetian     4.5            91        20.222222"
                        ],
                        "text/html": [
                            "<div>\n",
                            "<style scoped>\n",
                            "    .dataframe tbody tr th:only-of-type {\n",
                            "        vertical-align: middle;\n",
                            "    }\n",
                            "\n",
                            "    .dataframe tbody tr th {\n",
                            "        vertical-align: top;\n",
                            "    }\n",
                            "\n",
                            "    .dataframe thead th {\n",
                            "        text-align: right;\n",
                            "    }\n",
                            "</style>\n",
                            "<table border=\"1\" class=\"dataframe\">\n",
                            "  <thead>\n",
                            "    <tr style=\"text-align: right;\">\n",
                            "      <th></th>\n",
                            "      <th>name</th>\n",
                            "      <th>rating</th>\n",
                            "      <th>review_count</th>\n",
                            "      <th>weighted_rating</th>\n",
                            "    </tr>\n",
                            "  </thead>\n",
                            "  <tbody>\n",
                            "    <tr>\n",
                            "      <th>0</th>\n",
                            "      <td>Luca Italian Cuisine</td>\n",
                            "      <td>4.5</td>\n",
                            "      <td>294</td>\n",
                            "      <td>65.333333</td>\n",
                            "    </tr>\n",
                            "    <tr>\n",
                            "      <th>1</th>\n",
                            "      <td>Bruno's Ristorante</td>\n",
                            "      <td>4.0</td>\n",
                            "      <td>204</td>\n",
                            "      <td>51.000000</td>\n",
                            "    </tr>\n",
                            "    <tr>\n",
                            "      <th>2</th>\n",
                            "      <td>Sainato's at Rivergate</td>\n",
                            "      <td>4.0</td>\n",
                            "      <td>109</td>\n",
                            "      <td>27.250000</td>\n",
                            "    </tr>\n",
                            "    <tr>\n",
                            "      <th>3</th>\n",
                            "      <td>OSTERIA di AL</td>\n",
                            "      <td>4.0</td>\n",
                            "      <td>87</td>\n",
                            "      <td>21.750000</td>\n",
                            "    </tr>\n",
                            "    <tr>\n",
                            "      <th>4</th>\n",
                            "      <td>Il Venetian</td>\n",
                            "      <td>4.5</td>\n",
                            "      <td>91</td>\n",
                            "      <td>20.222222</td>\n",
                            "    </tr>\n",
                            "  </tbody>\n",
                            "</table>\n",
                            "</div>"
                        ]
                    },
                    "metadata": {},
                    "execution_count": 52
                }
            ],
            "metadata": {}
        },
        {
            "cell_type": "code",
            "execution_count": null,
            "source": [],
            "outputs": [],
            "metadata": {}
        },
        {
            "cell_type": "code",
            "execution_count": null,
            "source": [],
            "outputs": [],
            "metadata": {}
        },
        {
            "cell_type": "code",
            "execution_count": null,
            "source": [],
            "outputs": [],
            "metadata": {}
        },
        {
            "cell_type": "code",
            "execution_count": null,
            "source": [],
            "outputs": [],
            "metadata": {}
        },
        {
            "cell_type": "code",
            "execution_count": 53,
            "source": [
                "url='https://api.yelp.com/v3/businesses/matches'\n",
                "params={\"zip_code\": \"94109\",\"country\": \"US\"}\n",
                "req = requests.get(url, headers=headers, params=params)\n",
                "print('The status code is {}'.format(req.status_code))\n",
                "print(req.text)"
            ],
            "outputs": [
                {
                    "output_type": "stream",
                    "name": "stdout",
                    "text": [
                        "The status code is 400\n",
                        "{\"error\": {\"code\": \"VALIDATION_ERROR\", \"description\": \"name is a required parameter.\", \"field\": \"name\", \"instance\": null}}\n"
                    ]
                }
            ],
            "metadata": {}
        },
        {
            "cell_type": "code",
            "execution_count": null,
            "source": [],
            "outputs": [],
            "metadata": {}
        },
        {
            "cell_type": "code",
            "execution_count": 10,
            "source": [
                "\n",
                "# Define my parameters of the search\n",
                "# BUSINESS SEARCH PARAMETERS - EXAMPLE\n",
                "PARAMETERS = {'term': 'food','limit': 50,'zip_code': 44113}\n",
                "\n",
                "# Make a request to the Yelp API\n",
                "response = requests.get(url = ENDPOINT,\n",
                "                        params = PARAMETERS,\n",
                "                        headers = HEADERS)\n",
                "\n",
                "# Conver the JSON String\n",
                "business_data = response.json()\n",
                "\n",
                "# print the response\n",
                "print(json.dumps(business_data, indent = 3))"
            ],
            "outputs": [
                {
                    "output_type": "stream",
                    "name": "stdout",
                    "text": [
                        "{\n",
                        "   \"error\": {\n",
                        "      \"code\": \"VALIDATION_ERROR\",\n",
                        "      \"description\": \"Please specify a location or a latitude and longitude\"\n",
                        "   }\n",
                        "}\n"
                    ]
                }
            ],
            "metadata": {}
        }
    ],
    "metadata": {
        "orig_nbformat": 4,
        "language_info": {
            "name": "python",
            "version": "3.9.1",
            "mimetype": "text/x-python",
            "codemirror_mode": {
                "name": "ipython",
                "version": 3
            },
            "pygments_lexer": "ipython3",
            "nbconvert_exporter": "python",
            "file_extension": ".py"
        },
        "kernelspec": {
            "name": "python3",
            "display_name": "Python 3.9.1 64-bit"
        },
        "interpreter": {
            "hash": "aee8b7b246df8f9039afb4144a1f6fd8d2ca17a180786b69acc140d282b71a49"
        }
    },
    "nbformat": 4,
    "nbformat_minor": 2
}